{
 "cells": [
  {
   "cell_type": "code",
   "execution_count": 8,
   "metadata": {
    "collapsed": true
   },
   "outputs": [],
   "source": [
    "import os\n",
    "import glob\n",
    "import re"
   ]
  },
  {
   "cell_type": "code",
   "execution_count": 14,
   "metadata": {
    "collapsed": false,
    "scrolled": true
   },
   "outputs": [
    {
     "name": "stdout",
     "output_type": "stream",
     "text": [
      "texte_pour_portoflio.ipynb\n",
      "texte_pour_portoflio.ipynb\n",
      "l'aoûtiste.txt\n",
      "l_aoutiste.txt\n",
      "![%l_aoutiste%](l_aoutiste.txt)\n",
      "1\n"
     ]
    }
   ],
   "source": [
    "object = 'images'\n",
    "for i, name in enumerate(glob.glob('*.*')):\n",
    "    nameold = name\n",
    "    l = name.split()\n",
    "    name = re.sub(\"'\",\"_\", name)\n",
    "    name = re.sub(\"é\",\"e\", name)\n",
    "    name = re.sub(\"û\",\"u\", name)\n",
    "    name = re.sub(\"û\",\"u\", name)\n",
    "    name = re.sub(\"â\",\"a\", name)\n",
    "    name = re.sub(\"ô\",\"o\", name)\n",
    "    name = re.sub(\"à\",\"a\", name)\n",
    "    if len(l) >1: \n",
    "        name = '_'.join(l)\n",
    "    os.rename(nameold, name)\n",
    "    if name != 'make_list_objects.ipynb':\n",
    "        if object == 'images':\n",
    "            print '![%{0}%]({1})'.format(name[:-4], name)\n",
    "        elif object == 'iframe':\n",
    "            print '[{0},,]({1})'.format(name[:-4], name)\n",
    "print i"
   ]
  },
  {
   "cell_type": "code",
   "execution_count": null,
   "metadata": {
    "collapsed": true
   },
   "outputs": [],
   "source": []
  }
 ],
 "metadata": {
  "kernelspec": {
   "display_name": "Python 2",
   "language": "python",
   "name": "python2"
  },
  "language_info": {
   "codemirror_mode": {
    "name": "ipython",
    "version": 2
   },
   "file_extension": ".py",
   "mimetype": "text/x-python",
   "name": "python",
   "nbconvert_exporter": "python",
   "pygments_lexer": "ipython2",
   "version": "2.7.10"
  }
 },
 "nbformat": 4,
 "nbformat_minor": 0
}
