{
 "cells": [
  {
   "cell_type": "code",
   "execution_count": 1,
   "metadata": {
    "collapsed": true
   },
   "outputs": [],
   "source": [
    "import os\n",
    "import glob"
   ]
  },
  {
   "cell_type": "code",
   "execution_count": 2,
   "metadata": {
    "collapsed": false,
    "scrolled": true
   },
   "outputs": [
    {
     "name": "stdout",
     "output_type": "stream",
     "text": [
      "![%Travellers-Crossing-the-Oi-River%](Travellers-Crossing-the-Oi-River.jpg)\n",
      "![%Adam_N_III_1991_1ac%](Adam_N_III_1991_1ac.jpg)\n",
      "![%Adam_Engineer_1a%](Adam_Engineer_1a.jpg)\n",
      "![%Adam_M_III_1973_1a%](Adam_M_III_1973_1a.jpg)\n",
      "![%1992_1a%](1992_1a.jpg)\n",
      "![%Adam_getroffen_big%](Adam_getroffen_big.jpg)\n",
      "![%1978_1a%](1978_1a.jpg)\n",
      "![%mannen%](mannen.jpg)\n",
      "![%Hokusai_vague%](Hokusai_vague.jpg)\n",
      "![%hokusai-pieuvre-grand%](hokusai-pieuvre-grand.jpg)\n",
      "10\n"
     ]
    }
   ],
   "source": [
    "for i, name in enumerate(glob.glob('*.*')):\n",
    "    l = name.split()\n",
    "    nameold = name\n",
    "    if len(l) >1: \n",
    "        name = '_'.join(l)\n",
    "        os.rename(nameold,name)\n",
    "    if name != 'texte_pour_portoflio.ipynb':\n",
    "        print '![%{0}%]({1})'.format(name[:-4], name)\n",
    "print i"
   ]
  },
  {
   "cell_type": "code",
   "execution_count": null,
   "metadata": {
    "collapsed": true
   },
   "outputs": [],
   "source": []
  }
 ],
 "metadata": {
  "kernelspec": {
   "display_name": "Python 2",
   "language": "python",
   "name": "python2"
  },
  "language_info": {
   "codemirror_mode": {
    "name": "ipython",
    "version": 2
   },
   "file_extension": ".py",
   "mimetype": "text/x-python",
   "name": "python",
   "nbconvert_exporter": "python",
   "pygments_lexer": "ipython2",
   "version": "2.7.10"
  }
 },
 "nbformat": 4,
 "nbformat_minor": 0
}
