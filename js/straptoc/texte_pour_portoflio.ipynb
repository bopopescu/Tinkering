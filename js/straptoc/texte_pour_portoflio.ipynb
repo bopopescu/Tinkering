{
 "cells": [
  {
   "cell_type": "code",
   "execution_count": 4,
   "metadata": {
    "collapsed": true
   },
   "outputs": [],
   "source": [
    "import os\n",
    "import glob"
   ]
  },
  {
   "cell_type": "code",
   "execution_count": 6,
   "metadata": {
    "collapsed": false,
    "scrolled": true
   },
   "outputs": [
    {
     "name": "stdout",
     "output_type": "stream",
     "text": [
      "![%Hommage_to_Leonardo_1977-81_1a%](Hommage_to_Leonardo_1977-81_1a.jpg)\n",
      "![%rudolfhausner0.%](rudolfhausner0.jpeg)\n",
      "![%Adam_and_the_Lens_1976_1ac%](Adam_and_the_Lens_1976_1ac.jpg)\n",
      "![%Memories_1987_1ac%](Memories_1987_1ac.jpg)\n",
      "![%Adam_Okay_1961-64_1a%](Adam_Okay_1961-64_1a.jpg)\n",
      "![%hausner1.%](hausner1.jpeg)\n",
      "![%Adam_N_III_1991_1ac%](Adam_N_III_1991_1ac.jpg)\n",
      "![%Adam_In_Front_1a%](Adam_In_Front_1a.jpg)\n",
      "![%Anima_1947_1a%](Anima_1947_1a.jpg)\n",
      "![%Eva_1973_1a%](Eva_1973_1a.jpg)\n",
      "![%Adam_Engineer_1a%](Adam_Engineer_1a.jpg)\n",
      "![%Adam_M_III_1973_1a%](Adam_M_III_1973_1a.jpg)\n",
      "![%1992_1a%](1992_1a.jpg)\n",
      "![%Adam_getroffen_big%](Adam_getroffen_big.jpg)\n",
      "![%Adam_P_1963_1ac%](Adam_P_1963_1ac.jpg)\n",
      "![%1978_1a%](1978_1a.jpg)\n",
      "![%Adam_architect_1979_1a%](Adam_architect_1979_1a.jpg)\n",
      "![%Handicap_1986_1a%](Handicap_1986_1a.jpg)\n",
      "![%Osmioboku_1a%](Osmioboku_1a.jpg)\n",
      "![%Anna_1982_1a%](Anna_1982_1a.jpg)\n",
      "![%Z_1ac%](Z_1ac.jpg)\n",
      "![%Adam_Calling_1964_1a%](Adam_Calling_1964_1a.jpg)\n",
      "22\n"
     ]
    }
   ],
   "source": [
    "for i, name in enumerate(glob.glob('*.*')):\n",
    "    l = name.split()\n",
    "    nameold = name\n",
    "    if len(l) >1: \n",
    "        name = '_'.join(l)\n",
    "        os.rename(nameold,name)\n",
    "    if name != 'texte_pour_portoflio.ipynb':\n",
    "        print '![%{0}%]({1})'.format(name[:-4], name)\n",
    "print i"
   ]
  },
  {
   "cell_type": "code",
   "execution_count": null,
   "metadata": {
    "collapsed": true
   },
   "outputs": [],
   "source": []
  }
 ],
 "metadata": {
  "kernelspec": {
   "display_name": "Python 2",
   "language": "python",
   "name": "python2"
  },
  "language_info": {
   "codemirror_mode": {
    "name": "ipython",
    "version": 2
   },
   "file_extension": ".py",
   "mimetype": "text/x-python",
   "name": "python",
   "nbconvert_exporter": "python",
   "pygments_lexer": "ipython2",
   "version": "2.7.10"
  }
 },
 "nbformat": 4,
 "nbformat_minor": 0
}
