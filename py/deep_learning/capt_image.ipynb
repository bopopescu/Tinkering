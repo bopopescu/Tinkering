{
 "cells": [
  {
   "cell_type": "code",
   "execution_count": 12,
   "metadata": {},
   "outputs": [],
   "source": [
    "import cv2\n",
    "from time import sleep\n",
    "laps = 0.2\n",
    "nbframes = 60\n",
    "\n",
    "for i in range(nbframes):\n",
    "    sleep(laps)\n",
    "    cam = cv2.VideoCapture(0)\n",
    "    frame = cam.read()[1]\n",
    "    cv2.imwrite('img{0}.png'.format(i), frame)\n",
    "    sleep(laps)\n",
    "    #cv2.imshow(\"img1\", frame)"
   ]
  },
  {
   "cell_type": "code",
   "execution_count": null,
   "metadata": {},
   "outputs": [],
   "source": []
  }
 ],
 "metadata": {
  "kernelspec": {
   "display_name": "Python 3",
   "language": "python",
   "name": "python3"
  },
  "language_info": {
   "codemirror_mode": {
    "name": "ipython",
    "version": 3
   },
   "file_extension": ".py",
   "mimetype": "text/x-python",
   "name": "python",
   "nbconvert_exporter": "python",
   "pygments_lexer": "ipython3",
   "version": "3.6.4"
  }
 },
 "nbformat": 4,
 "nbformat_minor": 2
}
